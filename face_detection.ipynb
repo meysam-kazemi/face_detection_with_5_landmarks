{
  "nbformat": 4,
  "nbformat_minor": 0,
  "metadata": {
    "colab": {
      "provenance": [],
      "gpuType": "T4",
      "mount_file_id": "15NxUmE9XbLo2h8WAXtjjn6ThdXmQVONu",
      "authorship_tag": "ABX9TyO+VdsKiI2bUl9Zo4n5GdAN"
    },
    "kernelspec": {
      "name": "python3",
      "display_name": "Python 3"
    },
    "language_info": {
      "name": "python"
    },
    "accelerator": "GPU"
  },
  "cells": [
    {
      "cell_type": "code",
      "execution_count": 1,
      "metadata": {
        "id": "jiHigQDKrUwS"
      },
      "outputs": [],
      "source": [
        "import imutils\n",
        "import time\n",
        "import dlib\n",
        "import cv2\n",
        "import matplotlib.pyplot as plt\n",
        "import re\n",
        "import multiprocessing"
      ]
    },
    {
      "cell_type": "code",
      "source": [
        "%cd drive/MyDrive/landmark/ibug_300W_large_face_landmark_dataset/"
      ],
      "metadata": {
        "colab": {
          "base_uri": "https://localhost:8080/"
        },
        "id": "UeZDUMDu1anQ",
        "outputId": "942f52f7-3b32-4598-fb5e-99b33b10578a"
      },
      "execution_count": 2,
      "outputs": [
        {
          "output_type": "stream",
          "name": "stdout",
          "text": [
            "/content/drive/MyDrive/landmark/ibug_300W_large_face_landmark_dataset\n"
          ]
        }
      ]
    },
    {
      "cell_type": "code",
      "source": [
        "%ls"
      ],
      "metadata": {
        "colab": {
          "base_uri": "https://localhost:8080/"
        },
        "id": "m-VMhGba1958",
        "outputId": "1f368182-cbb8-4178-bfd2-5a6b2ca628a7"
      },
      "execution_count": 3,
      "outputs": [
        {
          "output_type": "stream",
          "name": "stdout",
          "text": [
            "\u001b[0m\u001b[01;34mafw\u001b[0m/                           labels_ibug_300W_test.xml\n",
            "\u001b[01;34mhelen\u001b[0m/                         labels_ibug_300W_train.xml\n",
            "\u001b[01;34mibug\u001b[0m/                          labels_ibug_300W.xml\n",
            "image_metadata_stylesheet.xsl  \u001b[01;34mlfpw\u001b[0m/\n",
            "labels_5landmarks_test.xml     predictor_5_landmarks.dat\n",
            "labels_5landmarks_train.xml\n"
          ]
        }
      ]
    },
    {
      "cell_type": "markdown",
      "source": [
        "## edit xml file"
      ],
      "metadata": {
        "id": "ZcvZo_y5WNL-"
      }
    },
    {
      "cell_type": "code",
      "source": [
        "def select_landmarks(landmarks,input,output):\n",
        "  part = re.compile(\"part name='[0-9]+'\")\n",
        "  rows = open(input).read().strip().split(\"\\n\") # read input xml file\n",
        "  output = open(output, \"w\") # open a file for save output xml file\n",
        "  for row in rows:\n",
        "    parts = part.findall(row)\n",
        "    if len(parts)==0 :\n",
        "        output.write(f\"{row}\\n\")\n",
        "    else:\n",
        "        i = row.find(\"name='\")\n",
        "        j = row.find(\"'\", i + len(\"name='\") + 1)\n",
        "        name = int(row[i + len(\"name='\"):j])\n",
        "        if name in landmarks:\n",
        "\t\t       output.write(f\"{row}\\n\")\n",
        "  output.close()\n",
        "\n",
        "lands = {18,27,34,49,55}\n",
        "# select_landmarks(lands,\"labels_ibug_300W_train.xml\",\"labels_5landmarks_train.xml\")\n",
        "# print(\"train data complete\")\n",
        "# select_landmarks(lands,\"labels_ibug_300W_test.xml\",\"labels_5landmarks_test.xml\")\n",
        "# print(\"test data complete\")"
      ],
      "metadata": {
        "id": "lWEbhc8WWZa8"
      },
      "execution_count": 4,
      "outputs": []
    },
    {
      "cell_type": "markdown",
      "source": [
        "## train"
      ],
      "metadata": {
        "id": "xGODTvcxVnbu"
      }
    },
    {
      "cell_type": "code",
      "source": [
        "def predictor(data_path,model_path):\n",
        "  options = dlib.shape_predictor_training_options()\n",
        "  options.tree_depth = 4\n",
        "  options.nu = 0.1\n",
        "  options.cascade_depth = 15\n",
        "  options.feature_pool_size = 400\n",
        "  options.num_test_splits = 50\n",
        "  options.oversampling_amount = 5\n",
        "  options.oversampling_translation_jitter = 0.1\n",
        "  options.be_verbose = True\n",
        "  options.num_threads = multiprocessing.cpu_count()\n",
        "  dlib.train_shape_predictor(\"labels_5landmarks_test.xml\", \"predictor_5_landmarks.dat\", options)\n",
        "predictor(\"labels_5landmarks_test.xml\",\"predictor_5_landmarks.dat\")"
      ],
      "metadata": {
        "id": "MSgevoc5U1r0"
      },
      "execution_count": null,
      "outputs": []
    },
    {
      "cell_type": "code",
      "source": [],
      "metadata": {
        "id": "GM-ddqsu1a7x"
      },
      "execution_count": null,
      "outputs": []
    },
    {
      "cell_type": "code",
      "source": [],
      "metadata": {
        "id": "K9kM6W671bCW"
      },
      "execution_count": null,
      "outputs": []
    }
  ]
}