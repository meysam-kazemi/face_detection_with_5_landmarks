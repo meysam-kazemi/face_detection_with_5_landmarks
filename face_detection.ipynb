{
  "nbformat": 4,
  "nbformat_minor": 0,
  "metadata": {
    "colab": {
      "provenance": [],
      "mount_file_id": "15NxUmE9XbLo2h8WAXtjjn6ThdXmQVONu",
      "authorship_tag": "ABX9TyPbKZqG+nLlmjwwddeeGK42"
    },
    "kernelspec": {
      "name": "python3",
      "display_name": "Python 3"
    },
    "language_info": {
      "name": "python"
    }
  },
  "cells": [
    {
      "cell_type": "code",
      "execution_count": 22,
      "metadata": {
        "id": "jiHigQDKrUwS"
      },
      "outputs": [],
      "source": [
        "import imutils\n",
        "import time\n",
        "import dlib\n",
        "import cv2\n",
        "import matplotlib.pyplot as plt\n",
        "import re\n",
        "import multiprocessing"
      ]
    },
    {
      "cell_type": "code",
      "source": [
        "%cd drive/MyDrive/landmark/ibug_300W_large_face_landmark_dataset/"
      ],
      "metadata": {
        "colab": {
          "base_uri": "https://localhost:8080/"
        },
        "id": "UeZDUMDu1anQ",
        "outputId": "3165d88a-e724-452a-e8f6-e6b78a010fd5"
      },
      "execution_count": 6,
      "outputs": [
        {
          "output_type": "stream",
          "name": "stdout",
          "text": [
            "[Errno 2] No such file or directory: 'drive/MyDrive/landmark'\n",
            "/content/drive/MyDrive/landmark/ibug_300W_large_face_landmark_dataset\n"
          ]
        }
      ]
    },
    {
      "cell_type": "code",
      "source": [
        "%ls"
      ],
      "metadata": {
        "colab": {
          "base_uri": "https://localhost:8080/"
        },
        "id": "m-VMhGba1958",
        "outputId": "fbdbb2a3-064b-4015-829e-20e089a0f85d"
      },
      "execution_count": 9,
      "outputs": [
        {
          "output_type": "stream",
          "name": "stdout",
          "text": [
            "\u001b[0m\u001b[01;34mafw\u001b[0m/    image_metadata_stylesheet.xsl  labels_ibug_300W.xml\n",
            "\u001b[01;34mhelen\u001b[0m/  labels_ibug_300W_test.xml      \u001b[01;34mlfpw\u001b[0m/\n",
            "\u001b[01;34mibug\u001b[0m/   labels_ibug_300W_train.xml\n"
          ]
        }
      ]
    },
    {
      "cell_type": "markdown",
      "source": [
        "## edit xml file"
      ],
      "metadata": {
        "id": "ZcvZo_y5WNL-"
      }
    },
    {
      "cell_type": "code",
      "source": [
        "def select_landmarks(landmarks,input,output):\n",
        "  part = re.compile(\"part name='[0-9]+'\")\n",
        "  rows = open(input).read().strip().split(\"\\n\") # read input xml file\n",
        "  output = open(output, \"w\") # open a file for save output xml file\n",
        "  for row in rows:\n",
        "    parts = part.findall(row)\n",
        "    if len(parts)==0 :\n",
        "        output.write(f\"{row}\\n\")\n",
        "    else:\n",
        "        i = row.find(\"name='\")\n",
        "        j = row.find(\"'\", i + len(\"name='\") + 1)\n",
        "        name = int(row[i + len(\"name='\"):j])\n",
        "        if name in landmarks:\n",
        "\t\t       output.write(f\"{row}\\n\")\n",
        "  output.close()\n",
        "\n",
        "lands = {18,27,34,49,55}\n",
        "select_landmarks(lands,\"labels_ibug_300W_train.xml\",\"labels_5landmarks_train.xml\")\n",
        "print(\"train data complete\")\n",
        "select_landmarks(lands,\"labels_ibug_300W_test.xml\",\"labels_5landmarks_test.xml\")\n",
        "print(\"test data complete\")"
      ],
      "metadata": {
        "colab": {
          "base_uri": "https://localhost:8080/"
        },
        "id": "lWEbhc8WWZa8",
        "outputId": "a1178c47-b4d6-4a76-e884-85a3cb71b527"
      },
      "execution_count": 21,
      "outputs": [
        {
          "output_type": "stream",
          "name": "stdout",
          "text": [
            "train data complete\n",
            "test data complete\n"
          ]
        }
      ]
    },
    {
      "cell_type": "code",
      "source": [],
      "metadata": {
        "id": "xGODTvcxVnbu"
      },
      "execution_count": 21,
      "outputs": []
    },
    {
      "cell_type": "code",
      "source": [],
      "metadata": {
        "id": "MSgevoc5U1r0"
      },
      "execution_count": 9,
      "outputs": []
    },
    {
      "cell_type": "code",
      "source": [
        "# import the necessary packages\n",
        "import re\n",
        "\n",
        "LANDMARKS = set(list(range(36, 48)))\n",
        "\n",
        "# to easily parse out the eye locations from the XML file we can\n",
        "# utilize regular expressions to determine if there is a 'part'\n",
        "# element on any given line\n",
        "PART = re.compile(\"part name='[0-9]+'\")\n",
        "# load the contents of the original XML file and open the output file\n",
        "# for writing\n",
        "print(\"[INFO] parsing data split XML file...\")\n",
        "rows = open().read().strip().split(\"\\n\")\n",
        "output = open(args[\"output\"], \"w\")"
      ],
      "metadata": {
        "colab": {
          "base_uri": "https://localhost:8080/",
          "height": 158
        },
        "id": "fRnii30H1a0l",
        "outputId": "64c0174f-302b-4976-8398-8583516a154a"
      },
      "execution_count": 13,
      "outputs": [
        {
          "output_type": "stream",
          "name": "stderr",
          "text": [
            "usage: ipykernel_launcher.py [-h] -i INPUT -t OUTPUT\n",
            "ipykernel_launcher.py: error: the following arguments are required: -i/--input, -t/--output\n"
          ]
        },
        {
          "output_type": "error",
          "ename": "SystemExit",
          "evalue": "ignored",
          "traceback": [
            "An exception has occurred, use %tb to see the full traceback.\n",
            "\u001b[0;31mSystemExit\u001b[0m\u001b[0;31m:\u001b[0m 2\n"
          ]
        }
      ]
    },
    {
      "cell_type": "code",
      "source": [],
      "metadata": {
        "id": "GM-ddqsu1a7x"
      },
      "execution_count": null,
      "outputs": []
    },
    {
      "cell_type": "code",
      "source": [],
      "metadata": {
        "id": "K9kM6W671bCW"
      },
      "execution_count": null,
      "outputs": []
    }
  ]
}