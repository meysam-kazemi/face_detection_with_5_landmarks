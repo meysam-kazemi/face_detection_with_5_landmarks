{
  "nbformat": 4,
  "nbformat_minor": 0,
  "metadata": {
    "colab": {
      "provenance": [],
      "mount_file_id": "1J_njqjPG20Q93Br6CCl0JI77WBqiWKlQ",
      "authorship_tag": "ABX9TyOeaUFcbjFmS9gW+FBSBHSJ"
    },
    "kernelspec": {
      "name": "python3",
      "display_name": "Python 3"
    },
    "language_info": {
      "name": "python"
    }
  },
  "cells": [
    {
      "cell_type": "code",
      "execution_count": null,
      "metadata": {
        "id": "8ZC2RJwLjgyD"
      },
      "outputs": [],
      "source": [
        "import tensorflow as tf\n",
        "import time\n",
        "import cv2\n",
        "import matplotlib.pyplot as plt\n",
        "import dlib\n",
        "import re"
      ]
    },
    {
      "cell_type": "code",
      "source": [
        "%cd drive/MyDrive/landmark/ibug_300W_large_face_landmark_dataset/"
      ],
      "metadata": {
        "colab": {
          "base_uri": "https://localhost:8080/"
        },
        "id": "we5ydIeFj89a",
        "outputId": "41b5f8d1-7c21-42f3-e8b6-3b34d5831b24"
      },
      "execution_count": null,
      "outputs": [
        {
          "output_type": "stream",
          "name": "stdout",
          "text": [
            "/content/drive/MyDrive/landmark/ibug_300W_large_face_landmark_dataset\n"
          ]
        }
      ]
    },
    {
      "cell_type": "code",
      "source": [
        "%ls"
      ],
      "metadata": {
        "colab": {
          "base_uri": "https://localhost:8080/"
        },
        "id": "QaFV6kYFjvNQ",
        "outputId": "c3c0a211-cf92-467e-db34-be06840dd5ea"
      },
      "execution_count": null,
      "outputs": [
        {
          "output_type": "stream",
          "name": "stdout",
          "text": [
            "\u001b[0m\u001b[01;34mafw\u001b[0m/                           labels_ibug_300W_train.xml\n",
            "\u001b[01;34mhelen\u001b[0m/                         labels_ibug_300W.xml\n",
            "\u001b[01;34mibug\u001b[0m/                          \u001b[01;34mlfpw\u001b[0m/\n",
            "image_metadata_stylesheet.xsl  predictor_5_landmarks.dat\n",
            "labels_5landmarks_test.xml     predictor.dat\n",
            "labels_5landmarks_train.xml    train.csv\n",
            "labels_ibug_300W_test.xml\n"
          ]
        }
      ]
    },
    {
      "cell_type": "code",
      "source": [
        "# save xml file in a csv file\n",
        "from xml.etree import ElementTree\n",
        "import csv\n",
        "\n",
        "xml = ElementTree.parse(\"labels_5landmarks_train.xml\")\n",
        "xml = xml.getroot()\n",
        "for image in xml.find(\"images\"):\n",
        "  name = image.attrib[\"file\"]\n",
        "  parts = image.find(\"box\").findall(\"part\")\n",
        "  lm18 = parts[0].attrib[]\n"
      ],
      "metadata": {
        "id": "mt3ZpjbnaRYi"
      },
      "execution_count": null,
      "outputs": []
    },
    {
      "cell_type": "code",
      "source": [
        "images = xml.find(\"images\")"
      ],
      "metadata": {
        "id": "E8FLNGs6iJMs"
      },
      "execution_count": null,
      "outputs": []
    },
    {
      "cell_type": "code",
      "source": [
        "images.find(\"image\").attrib"
      ],
      "metadata": {
        "colab": {
          "base_uri": "https://localhost:8080/"
        },
        "id": "-6eBm-2nmNVY",
        "outputId": "46ed207e-7333-41fc-bd44-74417650a43c"
      },
      "execution_count": null,
      "outputs": [
        {
          "output_type": "execute_result",
          "data": {
            "text/plain": [
              "{'file': 'lfpw/trainset/image_0457.png', 'width': '350', 'height': '464'}"
            ]
          },
          "metadata": {},
          "execution_count": 73
        }
      ]
    },
    {
      "cell_type": "code",
      "source": [
        "for part in xml.iter(\"part\"):\n",
        "  print(part.attrib)"
      ],
      "metadata": {
        "id": "9EHjik8Ii5aT"
      },
      "execution_count": null,
      "outputs": []
    },
    {
      "cell_type": "code",
      "source": [
        "xml.find(\"images\").findall(\"image\")[3].find(\"box\").findall(\"part\")[0].attrib"
      ],
      "metadata": {
        "colab": {
          "base_uri": "https://localhost:8080/"
        },
        "id": "I_Sc8q7sdC0r",
        "outputId": "638c968b-20a4-41b9-8a3f-2d4282edadd4"
      },
      "execution_count": null,
      "outputs": [
        {
          "output_type": "execute_result",
          "data": {
            "text/plain": [
              "{'name': '18', 'x': '921', 'y': '289'}"
            ]
          },
          "metadata": {},
          "execution_count": 78
        }
      ]
    },
    {
      "cell_type": "code",
      "source": [
        "for i in xml.find(\"images\").findall(\"image\")[3].find(\"box\").iter(\"part\"):\n",
        "  print(i.attrib)"
      ],
      "metadata": {
        "colab": {
          "base_uri": "https://localhost:8080/"
        },
        "id": "E7CtwxCNcwN8",
        "outputId": "a59b752a-e607-4fbb-91b9-690e33e57188"
      },
      "execution_count": null,
      "outputs": [
        {
          "output_type": "stream",
          "name": "stdout",
          "text": [
            "{'name': '18', 'x': '921', 'y': '289'}\n",
            "{'name': '27', 'x': '978', 'y': '335'}\n",
            "{'name': '34', 'x': '990', 'y': '433'}\n",
            "{'name': '49', 'x': '959', 'y': '460'}\n",
            "{'name': '55', 'x': '1002', 'y': '488'}\n"
          ]
        }
      ]
    },
    {
      "cell_type": "code",
      "source": [
        "part = re.compile(\"part name='[0-9]+'\")\n",
        "rows = open(input).read().strip().split(\"\\n\") # read input xml file\n",
        "output = open(output, \"w\") # open a file for save output xml file\n",
        "for row in rows:\n",
        "  parts = part.findall(row)\n",
        "  if len(parts)==0 :\n",
        "      output.write(f\"{row}\\n\")\n",
        "  else:\n",
        "      i = row.find(\"name='\")\n",
        "      j = row.find(\"'\", i + len(\"name='\") + 1)\n",
        "      name = int(row[i + len(\"name='\"):j])\n",
        "      if name in landmarks:\n",
        "          output.write(f\"{row}\\n\")"
      ],
      "metadata": {
        "id": "6TFRQhY7jwTn"
      },
      "execution_count": null,
      "outputs": []
    }
  ]
}